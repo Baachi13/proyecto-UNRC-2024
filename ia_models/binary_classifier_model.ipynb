{
  "nbformat": 4,
  "nbformat_minor": 0,
  "metadata": {
    "colab": {
      "provenance": [],
      "collapsed_sections": [
        "uEHdZvhqfD68",
        "7pmeilIXksXx"
      ],
      "toc_visible": true
    },
    "kernelspec": {
      "name": "python3",
      "display_name": "Python 3"
    },
    "language_info": {
      "name": "python"
    }
  },
  "cells": [
    {
      "cell_type": "code",
      "source": [
        "#Montaje de Google Drive\n",
        "from google.colab import drive\n",
        "drive.mount('/content/drive')\n"
      ],
      "metadata": {
        "colab": {
          "base_uri": "https://localhost:8080/"
        },
        "id": "JAYWrxzWFNgb",
        "outputId": "02a03314-c6a2-4648-cfb4-c150dba3a87b"
      },
      "execution_count": 2,
      "outputs": [
        {
          "output_type": "stream",
          "name": "stdout",
          "text": [
            "Mounted at /content/drive\n"
          ]
        }
      ]
    },
    {
      "cell_type": "markdown",
      "source": [
        "#Lectura y preprocesamiento de imágenes"
      ],
      "metadata": {
        "id": "DFvJJ-UneMfa"
      }
    },
    {
      "cell_type": "code",
      "execution_count": 3,
      "metadata": {
        "id": "KJYYY-SEuHJc"
      },
      "outputs": [],
      "source": [
        "\n",
        "#Importación de librerías y configuración\n",
        "import os\n",
        "import numpy as np\n",
        "from PIL import Image\n",
        "from sklearn.model_selection import train_test_split\n",
        "\n",
        "# Directorio de datasets\n",
        "dataset_path = '/content/drive/My Drive/proyecto2024_datasets/1.chest-xray-pneumonia/chest_xray/train'\n",
        "\n",
        "# Tamaño al que se redimencionan las imágenes para que sean uniformes\n",
        "IMG_SIZE = (64, 64)\n",
        "\n",
        "# Función para cargar imágenes y convertirlas en arrays\n",
        "def load_images_from_folder(folder, label):\n",
        "    images = []\n",
        "    labels = []\n",
        "    for filename in os.listdir(folder):\n",
        "        img_path = os.path.join(folder, filename)\n",
        "        try:\n",
        "            img = Image.open(img_path).convert('L')  # Convertir a escala de grises\n",
        "            img = img.resize(IMG_SIZE)  # Redimensionar las imágenes\n",
        "            img_array = np.array(img).flatten()  # Convertir la imagen a un vector 1D\n",
        "            images.append(img_array)\n",
        "            labels.append(label)\n",
        "        except Exception as e:\n",
        "            print(f'Error al procesar {filename}: {e}')\n",
        "    return images, labels\n",
        "\n",
        "# Cargar imágenes de las carpetas 'NORMAL' y 'PNEUMONIA' asignando etiquetas (0 para NORMAL y 1 para PNEUMONIA).\n",
        "normal_images, normal_labels = load_images_from_folder(os.path.join(dataset_path, 'NORMAL'), 0)\n",
        "pneumonia_images, pneumonia_labels = load_images_from_folder(os.path.join(dataset_path, 'PNEUMONIA'), 1)\n",
        "\n",
        "# Combinar las imágenes y las etiquetas\n",
        "X = normal_images + pneumonia_images\n",
        "y = normal_labels + pneumonia_labels\n",
        "\n",
        "# Convertir a arrays de NumPy\n",
        "X = np.array(X)\n",
        "y = np.array(y)\n",
        "\n",
        "# Separar en conjunto de entrenamiento y validación\n",
        "X_train, X_val, y_train, y_val = train_test_split(X, y, test_size=0.2, random_state=42)\n",
        "\n",
        "\n",
        "\n"
      ]
    },
    {
      "cell_type": "markdown",
      "source": [
        "##Expl:"
      ],
      "metadata": {
        "id": "uEHdZvhqfD68"
      }
    },
    {
      "cell_type": "markdown",
      "source": [
        "* `os`: Utilizado para manejar rutas de archivos y directorios.\n",
        "* `numpy`: Usado para manejar arrays numéricos, esencial para la manipulación de datos.\n",
        "* `PIL`: Biblioteca para abrir, manipular y guardar imágenes.\n",
        "* `train_test_split`: Función de sklearn para dividir los datos en conjuntos de entrenamiento y validación.\n",
        "\n",
        "`def load_images_from_folder(folder, label):`\n",
        "* Objetivo: Cargar imágenes desde una carpeta, preprocesarlas y convertirlas en vectores.\n",
        "* `Image.open(img_path).convert('L')`: Abre la imagen y la convierte a escala de grises (simplifica la imagen a un solo canal de color).\n",
        "* `img.resize(IMG_SIZE)`: Redimensiona la imagen al tamaño especificado.\n",
        "* `np.array(img).flatten()`: Convierte la imagen en un array NumPy y la aplana a un vector 1D. **Resultado**: Al convertir la imagen a un array de NumPy, se crea una representación de la imagen donde cada píxel tiene un valor asociado (generalmente entre 0 y 255 en el caso de imágenes en escala de grises). **Por ejemplo**, si la imagen tiene un tamaño de 64x64 pixeles, el array que se obtiene es de la forma (64, 64).\n",
        "* `.flatten()`: convierte un array de más de una dimensión en un vector de una sola dimensión (1D). Los modelos de machine learning, como SVM, requieren que las entradas sean vectores de una sola dimensión. La imagen original es 2D (64x64), y al \"aplanarla\" con .flatten(), se convierte en un vector de 1D con 64 × 64 = 4096 elementos.\n",
        "\n",
        "El vector de una dimensión será lo que el modelo utilizará como entrada para hacer las predicciones.\n"
      ],
      "metadata": {
        "id": "UZ-_TPpRelsX"
      }
    },
    {
      "cell_type": "markdown",
      "source": [
        "##Entrenamiento y evaluación"
      ],
      "metadata": {
        "id": "mt0il0T2fIb1"
      }
    },
    {
      "cell_type": "code",
      "source": [
        "\n",
        "\n",
        "from sklearn.svm import SVC\n",
        "from sklearn.linear_model import LogisticRegression\n",
        "from sklearn.metrics import classification_report, accuracy_score\n",
        "\n",
        "# Modelo SVM\n",
        "svm_model = SVC(kernel='linear') #Crea un modelo de SVM (Support Vector Machine) con un kernel lineal.\n",
        "svm_model.fit(X_train, y_train) #Entrena el modelo con los datos de entrenamiento\n",
        "\n",
        "# Predicciones en el conjunto de validación\n",
        "y_pred = svm_model.predict(X_val)\n",
        "\n",
        "# Evaluación del modelo\n",
        "print(\"SVM Accuracy:\", accuracy_score(y_val, y_pred)) #Calcula la precisión general del modelo (proporción de predicciones correctas)\n",
        "print(classification_report(y_val, y_pred)) #informe detallado con presicion, recall, f1 score para ambas clases.\n"
      ],
      "metadata": {
        "colab": {
          "base_uri": "https://localhost:8080/"
        },
        "id": "BAQiBrDxFCmL",
        "outputId": "93e712e2-7381-4774-bbfd-9dfcb8c66bfd"
      },
      "execution_count": 4,
      "outputs": [
        {
          "output_type": "stream",
          "name": "stdout",
          "text": [
            "SVM Accuracy: 0.9330085261875761\n",
            "              precision    recall  f1-score   support\n",
            "\n",
            "           0       0.95      0.93      0.94       862\n",
            "           1       0.92      0.94      0.93       780\n",
            "\n",
            "    accuracy                           0.93      1642\n",
            "   macro avg       0.93      0.93      0.93      1642\n",
            "weighted avg       0.93      0.93      0.93      1642\n",
            "\n"
          ]
        }
      ]
    },
    {
      "cell_type": "markdown",
      "source": [
        "## Expl.:"
      ],
      "metadata": {
        "id": "7pmeilIXksXx"
      }
    },
    {
      "cell_type": "markdown",
      "source": [
        "`svm_model = SVC(kernel='linear')` crea un modelo de **Máquinas de Soporte Vectorial (SVM)** en Scikit-Learn utilizando un **kernel lineal**.\n",
        "\n",
        "`SVC`: Es la clase para crear un clasificador de SVM en Scikit-Learn. `SVC` significa \"Support Vector Classifier\" (Clasificador de Vectores de Soporte).\n",
        "\n",
        "`kernel='linear'`: El parámetro `kernel` especifica el tipo de función que usará SVM para separar los datos. En este caso, se utiliza un kernel lineal, lo que significa que SVM intentará encontrar una línea recta (en 2D) que separe las clases en los datos.\n",
        "\n",
        "Cuando se entrena el modelo con los datos, el algoritmo de SVM busca la mejor línea o hiperplano que maximice la margen entre las diferentes clases.\n"
      ],
      "metadata": {
        "id": "p5gp-gWBkx9H"
      }
    },
    {
      "cell_type": "markdown",
      "source": [
        "# Pruebas en el conjunto de test\n"
      ],
      "metadata": {
        "id": "vJ6cTf7Lk8jS"
      }
    },
    {
      "cell_type": "code",
      "source": [
        "# Ruta de la carpeta de test\n",
        "test_dir = '/content/drive/My Drive/proyecto2024_datasets/1.chest-xray-pneumonia/chest_xray/test'\n",
        "\n",
        "# Cargar las imágenes de la carpeta de test\n",
        "test_normal_images, test_normal_labels = load_images_from_folder(os.path.join(test_dir, 'NORMAL'), 0)\n",
        "test_pneumonia_images, test_pneumonia_labels = load_images_from_folder(os.path.join(test_dir, 'PNEUMONIA'), 1)\n",
        "\n",
        "# Combinar las imágenes y etiquetas de test\n",
        "X_test = test_normal_images + test_pneumonia_images\n",
        "y_test = test_normal_labels + test_pneumonia_labels\n",
        "\n",
        "# Convertir a arrays de NumPy\n",
        "X_test = np.array(X_test)\n",
        "y_test = np.array(y_test)\n",
        "\n",
        "# Realizar predicciones sobre el conjunto de test\n",
        "y_test_pred = svm_model.predict(X_test)\n",
        "\n",
        "# Evaluar el rendimiento del modelo sobre el conjunto de test\n",
        "print(\"SVM Accuracy (Test):\", accuracy_score(y_test, y_test_pred))\n",
        "print(classification_report(y_test, y_test_pred))\n"
      ],
      "metadata": {
        "colab": {
          "base_uri": "https://localhost:8080/"
        },
        "id": "-mUx6ETuZ-1X",
        "outputId": "256c5698-ceb9-4a05-9123-d7d84abd1d3c"
      },
      "execution_count": 5,
      "outputs": [
        {
          "output_type": "stream",
          "name": "stdout",
          "text": [
            "SVM Accuracy (Test): 0.8546562228024369\n",
            "              precision    recall  f1-score   support\n",
            "\n",
            "           0       0.98      0.80      0.88       759\n",
            "           1       0.71      0.96      0.82       390\n",
            "\n",
            "    accuracy                           0.85      1149\n",
            "   macro avg       0.84      0.88      0.85      1149\n",
            "weighted avg       0.89      0.85      0.86      1149\n",
            "\n"
          ]
        }
      ]
    },
    {
      "cell_type": "markdown",
      "source": [
        "# Pruebas manuales"
      ],
      "metadata": {
        "id": "Zo6aPjDTwJWa"
      }
    },
    {
      "cell_type": "code",
      "source": [
        "image_path = '/content/drive/My Drive/proyecto2024_datasets/1.chest-xray-pneumonia/chest_xray/test/NORMAL/IM-0033-0001.jpeg'\n",
        "\n",
        "def preprocess_image(image_path):\n",
        "    IMG_SIZE = (64, 64)\n",
        "    try:\n",
        "        img = Image.open(image_path).convert('L')\n",
        "        img = img.resize(IMG_SIZE)\n",
        "        img_array = np.array(img).flatten()\n",
        "        return np.array([img_array])\n",
        "    except Exception as e:\n",
        "        print(f\"Error al procesar la imagen: {e}\")\n",
        "        return None\n",
        "\n",
        "image_to_predict = preprocess_image(image_path)\n"
      ],
      "metadata": {
        "id": "4ssHbe17rqtP"
      },
      "execution_count": 25,
      "outputs": []
    },
    {
      "cell_type": "code",
      "source": [
        "if image_to_predict is not None:\n",
        "    prediction = svm_model.predict(image_to_predict)\n",
        "    label = \"NORMAL\" if prediction == 0 else \"PNEUMONIA\"\n",
        "    print(f\"La imagen seleccionada ha sido clasificada como: {label}\")\n",
        "else:\n",
        "    print(\"No se pudo procesar la imagen.\")\n"
      ],
      "metadata": {
        "colab": {
          "base_uri": "https://localhost:8080/"
        },
        "id": "m6Wz10mNsGtd",
        "outputId": "d52f693e-38b7-4523-d504-562bea1dfc72"
      },
      "execution_count": 26,
      "outputs": [
        {
          "output_type": "stream",
          "name": "stdout",
          "text": [
            "La imagen seleccionada ha sido clasificada como: NORMAL\n"
          ]
        }
      ]
    }
  ]
}